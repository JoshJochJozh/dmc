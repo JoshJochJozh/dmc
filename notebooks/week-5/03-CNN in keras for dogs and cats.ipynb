{
 "cells": [
  {
   "cell_type": "markdown",
   "metadata": {},
   "source": [
    "## Lab 5.3 - CNN for cats and dogs\n",
    "\n",
    "Now that we have imported our custom image data, formatted them as proper feature and target numpy arrays, and split them between individual training and test data sets, we can use Keras to create another Convolutional Neural Network (CNN) and train it to classify images of cats and dogs (the holy grail of Arificial Intelligence!)\n",
    "\n",
    "First, let's use the pickle library to bring in the data sets we generated in the previous part of the lab:"
   ]
  },
  {
   "cell_type": "code",
   "execution_count": 19,
   "metadata": {
    "collapsed": false
   },
   "outputs": [
    {
     "name": "stdout",
     "output_type": "stream",
     "text": [
      "using ordering: tf\n",
      "('Training set', (2800, 64, 64), (2800, 1))\n",
      "('Test set', (1200, 64, 64), (1200, 1))\n"
     ]
    }
   ],
   "source": [
    "import pickle\n",
    "from keras.models import Sequential\n",
    "from keras.layers import Dense, Dropout, Activation, Flatten\n",
    "from keras.layers import Convolution2D, MaxPooling2D, ZeroPadding2D\n",
    "from keras.utils import np_utils\n",
    "from keras.optimizers import SGD\n",
    "from keras import backend as K\n",
    "\n",
    "K.set_image_dim_ordering('tf')\n",
    "print \"using ordering:\", K.image_dim_ordering()\n",
    "\n",
    "pickle_file = '-catsdogs.pickle'\n",
    "\n",
    "with open(pickle_file, 'rb') as f:\n",
    "    save = pickle.load(f)\n",
    "    X_train_load = save['X_train']\n",
    "    y_train_load = save['y_train']\n",
    "    X_test_load = save['X_test']\n",
    "    y_test_load = save['y_test']\n",
    "    del save  # hint to help gc free up memory\n",
    "    print('Training set', X_train_load.shape, y_train_load.shape)\n",
    "    print('Test set', X_test_load.shape, y_test_load.shape)"
   ]
  },
  {
   "cell_type": "markdown",
   "metadata": {},
   "source": [
    "Now that the data is imported, go through and implement the CNN from scratch based on the one developed in Lab 5.1. \n",
    "\n",
    "Experiment with different hyper-parameters as well as different architectures for your network. If you're not getting the results you want try a deeper network by adding more convolutional or fully connected layers. Remember that with CNN's, all convolutional layers should go in the beginning, and the fully connected layers should go at the end. You can also try to make the network 'wider' by adding more depth to each convolutional layer or more neurons to the fully connected layers. If you are noticing problems with over-fitting you can experiment with larger dropout rates or other regularlization strategies.\n",
    "\n",
    "You can also experiment with filters of a larger size in the convolutional layers. Larger filters will capture more information in the image at the expense of longer training times. For more information about the tradeoffs between depth and width in a CNN, you can read this paper: \n",
    "\n",
    "https://arxiv.org/pdf/1409.1556.pdf\n",
    "\n",
    "Known as the 'VGG paper', this research is currently one of the state-of-the-art benchmarks for image recognition using CNN's. The authors' hypothesis for the paper was that depth in a CNN (total number of layers) is much more important than the size of the filters or the depth within each convolutional layer. Thus they used very small filter sizes (only 3x3) but focused on making the networks as deep as possible. If you are still getting poor results and want to develop a deeper network, a good place to start would be to try to implement one of the networks from the 'VGG paper'. The deepest ones will probably take too long to train without having a dedicated graphics card, but you should be able to train one of the medium ones (for example network 'B') using just the virtual machine developed in the first lab.\n",
    "\n",
    "Just like when we initially loaded the data, with large networks you again run the risk of overloading your RAM memory, which will either throw an error during model compilation or training, or cause your Python kernel to crash. If you run into these issues, try reducing the complexity of your network (either using less layers, or reducing the depth of each layer) or using a smaller mini-batch size. If you are using the virtual machine, your RAM will be quite limited so you will not be able to train very deep or complex networks. This is ok for the demonstration purposes of the class, but for your own work you may want to use a native installation of Python and the related libraries so that you can use the full potential of your computer.\n",
    "\n",
    "Ofcourse classifying dogs and cats is a much more difficult problem than digit classification, so you should not expect to reach the same level of performance we did before. With an average sized network training over night on the virtual machine, you should be able to get at least 80% accuracy on the test dataset. Once you get a result you like, submit your work on this file as a pull request back to the main project."
   ]
  },
  {
   "cell_type": "code",
   "execution_count": 20,
   "metadata": {
    "collapsed": false
   },
   "outputs": [
    {
     "name": "stdout",
     "output_type": "stream",
     "text": [
      "(2800, 64, 64)\n",
      "(2800, 64, 64)\n",
      "64 64\n"
     ]
    }
   ],
   "source": [
    "print X_train_load.shape\n",
    "\n",
    "# number of classes\n",
    "num_classes = 2\n",
    "# image dimensions\n",
    "img_rows, img_cols = X_train_load.shape[1],  X_train_load.shape[2]\n",
    "print X_train_load.shape\n",
    "print img_rows, img_cols\n",
    "\n",
    "if K.image_dim_ordering() == 'th':\n",
    "    X_train = X_train_load.reshape(X_train_load.shape[0], 1, img_rows, img_cols)\n",
    "    X_test = X_test_load.reshape(X_test_load.shape[0], 1, img_rows, img_cols)\n",
    "    input_shape = (1, img_rows, img_cols)\n",
    "else:\n",
    "    X_train = X_train_load.reshape(X_train_load.shape[0], img_rows, img_cols, 1)\n",
    "    X_test = X_test_load.reshape(X_test_load.shape[0], img_rows, img_cols, 1)\n",
    "    input_shape = (img_rows, img_cols, 1)\n",
    "    \n",
    "Y_train = np_utils.to_categorical(y_train_load, num_classes)\n",
    "Y_test = np_utils.to_categorical(y_test_load, num_classes)"
   ]
  },
  {
   "cell_type": "code",
   "execution_count": 11,
   "metadata": {
    "collapsed": false,
    "scrolled": true
   },
   "outputs": [
    {
     "name": "stdout",
     "output_type": "stream",
     "text": [
      "(64, 64)\n",
      "(700, 1)\n"
     ]
    },
    {
     "data": {
      "text/plain": [
       "<matplotlib.image.AxesImage at 0x7f4e470b8350>"
      ]
     },
     "execution_count": 11,
     "metadata": {},
     "output_type": "execute_result"
    },
    {
     "data": {
      "image/png": "[encoded data removed]",
      "text/plain": [
       "<matplotlib.figure.Figure at 0x7f4e3b129c10>"
      ]
     },
     "metadata": {},
     "output_type": "display_data"
    }
   ],
   "source": [
    "%matplotlib inline\n",
    "from matplotlib.pyplot import imshow\n",
    "import matplotlib.pyplot as plt\n",
    "\n",
    "img_num = 0\n",
    "\n",
    "if K.image_dim_ordering() == 'th':\n",
    "    img = X_train[img_num][0,:,:]\n",
    "else:\n",
    "    img = X_train[img_num][:,:,0]\n",
    "\n",
    "print img.shape\n",
    "print y_train_load.shape\n",
    "imshow(img, cmap = plt.get_cmap('gray'), vmin = 0, vmax = 1,  interpolation='nearest')"
   ]
  },
  {
   "cell_type": "code",
   "execution_count": 21,
   "metadata": {
    "collapsed": false
   },
   "outputs": [
    {
     "name": "stdout",
     "output_type": "stream",
     "text": [
      "(64, 64, 1)\n",
      "(2800, 2)\n",
      "(2800, 64, 64, 1)\n"
     ]
    }
   ],
   "source": [
    "print input_shape\n",
    "print Y_train.shape\n",
    "print X_train.shape"
   ]
  },
  {
   "cell_type": "code",
   "execution_count": 22,
   "metadata": {
    "collapsed": false
   },
   "outputs": [
    {
     "name": "stdout",
     "output_type": "stream",
     "text": [
      "(64, 64, 1)\n"
     ]
    }
   ],
   "source": [
    "## implement your CNN starting here.\n",
    "\n",
    "\n",
    "\n",
    "# model hyperparameters\n",
    "batch_size = 128\n",
    "nb_epoch = 30\n",
    "\n",
    "# network architecture\n",
    "patch_size_1 = 3\n",
    "patch_size_2 = 3\n",
    "patch_size_3 = 3\n",
    "\n",
    "\n",
    "\n",
    "pool_size = 2\n",
    "\n",
    "num_hidden_1 = 1000\n",
    "num_hidden_2 = 1000\n",
    "num_hidden_3 = 1000\n",
    "\n",
    "dropout = 0.5\n",
    "\n",
    "print input_shape"
   ]
  },
  {
   "cell_type": "code",
   "execution_count": 14,
   "metadata": {
    "collapsed": false
   },
   "outputs": [
    {
     "name": "stdout",
     "output_type": "stream",
     "text": [
      "using ordering: tf\n",
      "(700, 64, 64, 1)\n",
      "(700, 2)\n",
      "(300, 64, 64, 1)\n",
      "(300, 2)\n",
      "using ordering: tf\n"
     ]
    }
   ],
   "source": [
    "print \"using ordering:\", K.image_dim_ordering()\n",
    "\n",
    "model = Sequential()\n",
    "\n",
    "model.add(Convolution2D(64, 3, 3, border_mode ='valid',input_shape=input_shape))  \n",
    "model.add(Activation('relu'))\n",
    "model.add(MaxPooling2D(pool_size=(2,2)))\n",
    "\n",
    "model.add(Convolution2D(128, 3, 3,  border_mode ='valid'))\n",
    "model.add(Activation('relu'))\n",
    "model.add(MaxPooling2D(pool_size=(2,2)))\n",
    "\n",
    "model.add(Convolution2D(256, 3, 3,  border_mode ='valid'))\n",
    "model.add(Activation('relu'))\n",
    "\n",
    "model.add(MaxPooling2D(pool_size=(2,2)))\n",
    "\n",
    "\n",
    "\n",
    "\n",
    "model.add(Flatten())\n",
    "\n",
    "\n",
    "model.add(Dense(num_hidden_1))\n",
    "model.add(Activation('relu'))\n",
    "model.add(Dropout(dropout))\n",
    "          \n",
    "model.add(Dense(num_hidden_2))\n",
    "model.add(Activation('relu'))\n",
    "model.add(Dropout(dropout))\n",
    "          \n",
    "model.add(Dense(num_hidden_3))\n",
    "model.add(Activation('relu'))\n",
    "model.add(Dropout(dropout))\n",
    "\n",
    "\n",
    "model.add(Dense(num_classes))\n",
    "\n",
    "# apply the 'softmax' activation to the final layer to convert the output to \n",
    "# a probability distribution\n",
    "model.add(Activation('softmax'))\n",
    "\n",
    "model.compile(loss='categorical_crossentropy',\n",
    "              optimizer='adadelta',\n",
    "              metrics=['accuracy'])\n",
    "\n",
    "print X_train.shape\n",
    "print Y_train.shape\n",
    "print X_test.shape\n",
    "print Y_test.shape\n",
    "\n",
    "print \"using ordering:\", K.image_dim_ordering()"
   ]
  },
  {
   "cell_type": "code",
   "execution_count": 23,
   "metadata": {
    "collapsed": false
   },
   "outputs": [
    {
     "name": "stdout",
     "output_type": "stream",
     "text": [
      "using ordering: tf\n",
      "Train on 2800 samples, validate on 1200 samples\n",
      "Epoch 1/30\n",
      "2800/2800 [==============================] - 55s - loss: 0.6872 - acc: 0.5507 - val_loss: 0.6763 - val_acc: 0.5992\n",
      "Epoch 2/30\n",
      "2800/2800 [==============================] - 52s - loss: 0.6859 - acc: 0.5614 - val_loss: 0.6762 - val_acc: 0.5792\n",
      "Epoch 3/30\n",
      "2800/2800 [==============================] - 51s - loss: 0.6775 - acc: 0.5796 - val_loss: 0.6760 - val_acc: 0.5725\n",
      "Epoch 4/30\n",
      "2800/2800 [==============================] - 51s - loss: 0.6877 - acc: 0.5568 - val_loss: 0.6647 - val_acc: 0.6200\n",
      "Epoch 5/30\n",
      "2800/2800 [==============================] - 51s - loss: 0.6692 - acc: 0.6143 - val_loss: 0.6485 - val_acc: 0.6250\n",
      "Epoch 6/30\n",
      "2800/2800 [==============================] - 52s - loss: 0.6561 - acc: 0.6229 - val_loss: 0.6443 - val_acc: 0.6417\n",
      "Epoch 7/30\n",
      "2800/2800 [==============================] - 51s - loss: 0.6601 - acc: 0.6289 - val_loss: 0.6491 - val_acc: 0.6125\n",
      "Epoch 8/30\n",
      "2800/2800 [==============================] - 51s - loss: 0.6472 - acc: 0.6357 - val_loss: 0.6345 - val_acc: 0.6450\n",
      "Epoch 9/30\n",
      "2800/2800 [==============================] - 51s - loss: 0.6480 - acc: 0.6286 - val_loss: 0.6321 - val_acc: 0.6492\n",
      "Epoch 10/30\n",
      "2800/2800 [==============================] - 52s - loss: 0.6384 - acc: 0.6482 - val_loss: 0.6306 - val_acc: 0.6525\n",
      "Epoch 11/30\n",
      "2800/2800 [==============================] - 51s - loss: 0.6397 - acc: 0.6450 - val_loss: 0.6354 - val_acc: 0.6258\n",
      "Epoch 12/30\n",
      "2800/2800 [==============================] - 51s - loss: 0.6370 - acc: 0.6414 - val_loss: 0.6744 - val_acc: 0.5967\n",
      "Epoch 13/30\n",
      "2800/2800 [==============================] - 60s - loss: 0.6295 - acc: 0.6618 - val_loss: 0.6386 - val_acc: 0.6292\n",
      "Epoch 14/30\n",
      "2800/2800 [==============================] - 59s - loss: 0.6278 - acc: 0.6529 - val_loss: 0.6917 - val_acc: 0.5700\n",
      "Epoch 15/30\n",
      "2800/2800 [==============================] - 51s - loss: 0.6272 - acc: 0.6500 - val_loss: 0.6783 - val_acc: 0.5858\n",
      "Epoch 16/30\n",
      "2800/2800 [==============================] - 51s - loss: 0.6332 - acc: 0.6546 - val_loss: 0.6309 - val_acc: 0.6333\n",
      "Epoch 17/30\n",
      "2800/2800 [==============================] - 51s - loss: 0.6152 - acc: 0.6704 - val_loss: 0.6118 - val_acc: 0.6692\n",
      "Epoch 18/30\n",
      "2800/2800 [==============================] - 56s - loss: 0.6113 - acc: 0.6714 - val_loss: 0.6242 - val_acc: 0.6508\n",
      "Epoch 19/30\n",
      "2800/2800 [==============================] - 56s - loss: 0.5938 - acc: 0.6925 - val_loss: 0.6038 - val_acc: 0.6692\n",
      "Epoch 20/30\n",
      "2800/2800 [==============================] - 58s - loss: 0.6010 - acc: 0.6804 - val_loss: 0.6031 - val_acc: 0.6767\n",
      "Epoch 21/30\n",
      "2800/2800 [==============================] - 58s - loss: 0.5773 - acc: 0.7061 - val_loss: 0.6228 - val_acc: 0.6575\n",
      "Epoch 22/30\n",
      "2800/2800 [==============================] - 61s - loss: 0.5797 - acc: 0.7021 - val_loss: 0.5862 - val_acc: 0.6992\n",
      "Epoch 23/30\n",
      "2800/2800 [==============================] - 57s - loss: 0.5668 - acc: 0.7100 - val_loss: 0.5813 - val_acc: 0.6958\n",
      "Epoch 24/30\n",
      "2800/2800 [==============================] - 53s - loss: 0.5465 - acc: 0.7289 - val_loss: 0.5717 - val_acc: 0.7150\n",
      "Epoch 25/30\n",
      "2800/2800 [==============================] - 56s - loss: 0.5352 - acc: 0.7400 - val_loss: 0.6163 - val_acc: 0.6925\n",
      "Epoch 26/30\n",
      "2800/2800 [==============================] - 67s - loss: 0.5257 - acc: 0.7411 - val_loss: 0.5602 - val_acc: 0.7142\n",
      "Epoch 27/30\n",
      "2800/2800 [==============================] - 54s - loss: 0.5007 - acc: 0.7607 - val_loss: 0.5471 - val_acc: 0.7208\n",
      "Epoch 28/30\n",
      "2800/2800 [==============================] - 52s - loss: 0.4984 - acc: 0.7657 - val_loss: 0.5831 - val_acc: 0.7142\n",
      "Epoch 29/30\n",
      "2800/2800 [==============================] - 52s - loss: 0.4814 - acc: 0.7764 - val_loss: 0.5946 - val_acc: 0.6992\n",
      "Epoch 30/30\n",
      "2800/2800 [==============================] - 52s - loss: 0.4420 - acc: 0.8011 - val_loss: 0.6559 - val_acc: 0.6800\n"
     ]
    },
    {
     "data": {
      "text/plain": [
       "<keras.callbacks.History at 0x7f4e2c1a6fd0>"
      ]
     },
     "execution_count": 23,
     "metadata": {},
     "output_type": "execute_result"
    }
   ],
   "source": [
    "print \"using ordering:\", K.image_dim_ordering()\n",
    "model.fit(X_train, Y_train, batch_size=batch_size, nb_epoch=nb_epoch,\n",
    "          verbose=1, validation_data=(X_test, Y_test))"
   ]
  },
  {
   "cell_type": "code",
   "execution_count": 24,
   "metadata": {
    "collapsed": false
   },
   "outputs": [
    {
     "name": "stdout",
     "output_type": "stream",
     "text": [
      "Test score: 0.655883177916\n",
      "Test accuracy: 68.00%\n"
     ]
    }
   ],
   "source": [
    "score = model.evaluate(X_test, Y_test, verbose=0)\n",
    "\n",
    "print 'Test score:', score[0]\n",
    "print 'Test accuracy: {:.2%}'.format(score[1])\n"
   ]
  },
  {
   "cell_type": "code",
   "execution_count": null,
   "metadata": {
    "collapsed": true
   },
   "outputs": [],
   "source": []
  }
 ],
 "metadata": {
  "anaconda-cloud": {},
  "kernelspec": {
   "display_name": "Python [default]",
   "language": "python",
   "name": "python2"
  },
  "language_info": {
   "codemirror_mode": {
    "name": "ipython",
    "version": 2
   },
   "file_extension": ".py",
   "mimetype": "text/x-python",
   "name": "python",
   "nbconvert_exporter": "python",
   "pygments_lexer": "ipython2",
   "version": "2.7.12"
  }
 },
 "nbformat": 4,
 "nbformat_minor": 1
}
