{
 "cells": [
  {
   "cell_type": "markdown",
   "metadata": {},
   "source": [
    "## Lab 5.3 - CNN for cats and dogs\n",
    "\n",
    "Now that we have imported our custom image data, formatted them as proper feature and target numpy arrays, and split them between individual training and test data sets, we can use Keras to create another Convolutional Neural Network (CNN) and train it to classify images of cats and dogs (the holy grail of Arificial Intelligence!)\n",
    "\n",
    "First, let's use the pickle library to bring in the data sets we generated in the previous part of the lab:"
   ]
  },
  {
   "cell_type": "code",
   "execution_count": 10,
   "metadata": {
    "collapsed": false
   },
   "outputs": [
    {
     "name": "stdout",
     "output_type": "stream",
     "text": [
      "using ordering: tf\n",
      "('Training set', (5600, 64, 64), (5600, 1))\n",
      "('Test set', (2400, 64, 64), (2400, 1))\n"
     ]
    }
   ],
   "source": [
    "import pickle\n",
    "from keras.models import Sequential\n",
    "from keras.layers import Dense, Dropout, Activation, Flatten\n",
    "from keras.layers import Convolution2D, MaxPooling2D, ZeroPadding2D\n",
    "from keras.utils import np_utils\n",
    "from keras.optimizers import SGD\n",
    "from keras import backend as K\n",
    "\n",
    "K.set_image_dim_ordering('tf')\n",
    "print \"using ordering:\", K.image_dim_ordering()\n",
    "\n",
    "pickle_file = '-catsdogs.pickle'\n",
    "\n",
    "with open(pickle_file, 'rb') as f:\n",
    "    save = pickle.load(f)\n",
    "    X_train_load = save['X_train']\n",
    "    y_train_load = save['y_train']\n",
    "    X_test_load = save['X_test']\n",
    "    y_test_load = save['y_test']\n",
    "    del save  # hint to help gc free up memory\n",
    "    print('Training set', X_train_load.shape, y_train_load.shape)\n",
    "    print('Test set', X_test_load.shape, y_test_load.shape)"
   ]
  },
  {
   "cell_type": "markdown",
   "metadata": {},
   "source": [
    "Now that the data is imported, go through and implement the CNN from scratch based on the one developed in Lab 5.1. \n",
    "\n",
    "Experiment with different hyper-parameters as well as different architectures for your network. If you're not getting the results you want try a deeper network by adding more convolutional or fully connected layers. Remember that with CNN's, all convolutional layers should go in the beginning, and the fully connected layers should go at the end. You can also try to make the network 'wider' by adding more depth to each convolutional layer or more neurons to the fully connected layers. If you are noticing problems with over-fitting you can experiment with larger dropout rates or other regularlization strategies.\n",
    "\n",
    "You can also experiment with filters of a larger size in the convolutional layers. Larger filters will capture more information in the image at the expense of longer training times. For more information about the tradeoffs between depth and width in a CNN, you can read this paper: \n",
    "\n",
    "https://arxiv.org/pdf/1409.1556.pdf\n",
    "\n",
    "Known as the 'VGG paper', this research is currently one of the state-of-the-art benchmarks for image recognition using CNN's. The authors' hypothesis for the paper was that depth in a CNN (total number of layers) is much more important than the size of the filters or the depth within each convolutional layer. Thus they used very small filter sizes (only 3x3) but focused on making the networks as deep as possible. If you are still getting poor results and want to develop a deeper network, a good place to start would be to try to implement one of the networks from the 'VGG paper'. The deepest ones will probably take too long to train without having a dedicated graphics card, but you should be able to train one of the medium ones (for example network 'B') using just the virtual machine developed in the first lab.\n",
    "\n",
    "Just like when we initially loaded the data, with large networks you again run the risk of overloading your RAM memory, which will either throw an error during model compilation or training, or cause your Python kernel to crash. If you run into these issues, try reducing the complexity of your network (either using less layers, or reducing the depth of each layer) or using a smaller mini-batch size. If you are using the virtual machine, your RAM will be quite limited so you will not be able to train very deep or complex networks. This is ok for the demonstration purposes of the class, but for your own work you may want to use a native installation of Python and the related libraries so that you can use the full potential of your computer.\n",
    "\n",
    "Ofcourse classifying dogs and cats is a much more difficult problem than digit classification, so you should not expect to reach the same level of performance we did before. With an average sized network training over night on the virtual machine, you should be able to get at least 80% accuracy on the test dataset. Once you get a result you like, submit your work on this file as a pull request back to the main project."
   ]
  },
  {
   "cell_type": "code",
   "execution_count": 11,
   "metadata": {
    "collapsed": false
   },
   "outputs": [
    {
     "name": "stdout",
     "output_type": "stream",
     "text": [
      "(5600, 64, 64)\n",
      "(5600, 64, 64)\n",
      "64 64\n"
     ]
    }
   ],
   "source": [
    "print X_train_load.shape\n",
    "\n",
    "# number of classes\n",
    "num_classes = 2\n",
    "# image dimensions\n",
    "img_rows, img_cols = X_train_load.shape[1],  X_train_load.shape[2]\n",
    "print X_train_load.shape\n",
    "print img_rows, img_cols\n",
    "\n",
    "if K.image_dim_ordering() == 'th':\n",
    "    X_train = X_train_load.reshape(X_train_load.shape[0], 1, img_rows, img_cols)\n",
    "    X_test = X_test_load.reshape(X_test_load.shape[0], 1, img_rows, img_cols)\n",
    "    input_shape = (1, img_rows, img_cols)\n",
    "else:\n",
    "    X_train = X_train_load.reshape(X_train_load.shape[0], img_rows, img_cols, 1)\n",
    "    X_test = X_test_load.reshape(X_test_load.shape[0], img_rows, img_cols, 1)\n",
    "    input_shape = (img_rows, img_cols, 1)\n",
    "    \n",
    "Y_train = np_utils.to_categorical(y_train_load, num_classes)\n",
    "Y_test = np_utils.to_categorical(y_test_load, num_classes)"
   ]
  },
  {
   "cell_type": "code",
   "execution_count": 12,
   "metadata": {
    "collapsed": false,
    "scrolled": true
   },
   "outputs": [
    {
     "name": "stdout",
     "output_type": "stream",
     "text": [
      "(64, 64)\n",
      "(5600, 1)\n"
     ]
    },
    {
     "data": {
      "text/plain": [
       "<matplotlib.image.AxesImage at 0x7f740bfe9610>"
      ]
     },
     "execution_count": 12,
     "metadata": {},
     "output_type": "execute_result"
    },
    {
     "data": {
      "image/png": "[encoded data removed]",
      "text/plain": [
       "<matplotlib.figure.Figure at 0x7f740c05eed0>"
      ]
     },
     "metadata": {},
     "output_type": "display_data"
    }
   ],
   "source": [
    "%matplotlib inline\n",
    "from matplotlib.pyplot import imshow\n",
    "import matplotlib.pyplot as plt\n",
    "\n",
    "img_num = 0\n",
    "\n",
    "if K.image_dim_ordering() == 'th':\n",
    "    img = X_train[img_num][0,:,:]\n",
    "else:\n",
    "    img = X_train[img_num][:,:,0]\n",
    "\n",
    "print img.shape\n",
    "print y_train_load.shape\n",
    "imshow(img, cmap = plt.get_cmap('gray'), vmin = 0, vmax = 1,  interpolation='nearest')"
   ]
  },
  {
   "cell_type": "code",
   "execution_count": 13,
   "metadata": {
    "collapsed": false
   },
   "outputs": [
    {
     "name": "stdout",
     "output_type": "stream",
     "text": [
      "(64, 64, 1)\n",
      "(5600, 2)\n",
      "(5600, 64, 64, 1)\n"
     ]
    }
   ],
   "source": [
    "print input_shape\n",
    "print Y_train.shape\n",
    "print X_train.shape"
   ]
  },
  {
   "cell_type": "code",
   "execution_count": 14,
   "metadata": {
    "collapsed": false
   },
   "outputs": [
    {
     "name": "stdout",
     "output_type": "stream",
     "text": [
      "(64, 64, 1)\n"
     ]
    }
   ],
   "source": [
    "## implement your CNN starting here.\n",
    "\n",
    "\n",
    "\n",
    "# model hyperparameters\n",
    "batch_size = 128\n",
    "nb_epoch = 30\n",
    "\n",
    "# network architecture\n",
    "patch_size_1 = 3\n",
    "patch_size_2 = 3\n",
    "patch_size_3 = 3\n",
    "patch_size_4 = 3\n",
    "\n",
    "\n",
    "pool_size = 2\n",
    "\n",
    "num_hidden_1 = 1000\n",
    "num_hidden_2 = 1000\n",
    "num_hidden_3 = 1000\n",
    "num_hidden_4 = 1000\n",
    "\n",
    "dropout = 0.25\n",
    "\n",
    "print input_shape"
   ]
  },
  {
   "cell_type": "code",
   "execution_count": 17,
   "metadata": {
    "collapsed": false
   },
   "outputs": [
    {
     "name": "stdout",
     "output_type": "stream",
     "text": [
      "using ordering: tf\n",
      "(5600, 64, 64, 1)\n",
      "(5600, 2)\n",
      "(2400, 64, 64, 1)\n",
      "(2400, 2)\n",
      "using ordering: tf\n"
     ]
    }
   ],
   "source": [
    "print \"using ordering:\", K.image_dim_ordering()\n",
    "\n",
    "model = Sequential()\n",
    "\n",
    "model.add(Convolution2D(64, 3, 3, border_mode ='valid',input_shape=input_shape))  \n",
    "model.add(Activation('relu'))\n",
    "model.add(MaxPooling2D(pool_size=(2,2)))\n",
    "\n",
    "model.add(Convolution2D(128, 3, 3,  border_mode ='valid'))\n",
    "model.add(Activation('relu'))\n",
    "model.add(MaxPooling2D(pool_size=(2,2)))\n",
    "\n",
    "model.add(Convolution2D(256, 3, 3,  border_mode ='valid'))\n",
    "model.add(Activation('relu'))\n",
    "\n",
    "model.add(MaxPooling2D(pool_size=(2,2)))\n",
    "\n",
    "\n",
    "\n",
    "\n",
    "model.add(Flatten())\n",
    "\n",
    "\n",
    "model.add(Dense(num_hidden_1))\n",
    "model.add(Activation('relu'))\n",
    "model.add(Dropout(dropout))\n",
    "          \n",
    "model.add(Dense(num_hidden_2))\n",
    "model.add(Activation('relu'))\n",
    "model.add(Dropout(dropout))\n",
    "          \n",
    "model.add(Dense(num_hidden_3))\n",
    "model.add(Activation('relu'))\n",
    "model.add(Dropout(dropout))\n",
    "\n",
    "\n",
    "model.add(Dense(num_classes))\n",
    "\n",
    "# apply the 'softmax' activation to the final layer to convert the output to \n",
    "# a probability distribution\n",
    "model.add(Activation('softmax'))\n",
    "\n",
    "model.compile(loss='categorical_crossentropy',\n",
    "              optimizer='adadelta',\n",
    "              metrics=['accuracy'])\n",
    "\n",
    "print X_train.shape\n",
    "print Y_train.shape\n",
    "print X_test.shape\n",
    "print Y_test.shape\n",
    "\n",
    "print \"using ordering:\", K.image_dim_ordering()"
   ]
  },
  {
   "cell_type": "code",
   "execution_count": 18,
   "metadata": {
    "collapsed": false
   },
   "outputs": [
    {
     "name": "stdout",
     "output_type": "stream",
     "text": [
      "using ordering: tf\n",
      "Train on 5600 samples, validate on 2400 samples\n",
      "Epoch 1/30\n",
      "5600/5600 [==============================] - 103s - loss: 0.6933 - acc: 0.5041 - val_loss: 0.6930 - val_acc: 0.4958\n",
      "Epoch 2/30\n",
      "5600/5600 [==============================] - 115s - loss: 0.6930 - acc: 0.5134 - val_loss: 0.6917 - val_acc: 0.5208\n",
      "Epoch 3/30\n",
      "5600/5600 [==============================] - 119s - loss: 0.6889 - acc: 0.5600 - val_loss: 0.6784 - val_acc: 0.5513\n",
      "Epoch 4/30\n",
      "5600/5600 [==============================] - 120s - loss: 0.6848 - acc: 0.5732 - val_loss: 0.6640 - val_acc: 0.6433\n",
      "Epoch 5/30\n",
      "5600/5600 [==============================] - 137s - loss: 0.6735 - acc: 0.5839 - val_loss: 0.6661 - val_acc: 0.5946\n",
      "Epoch 6/30\n",
      "5600/5600 [==============================] - 124s - loss: 0.6611 - acc: 0.6100 - val_loss: 0.6538 - val_acc: 0.6188\n",
      "Epoch 7/30\n",
      "5600/5600 [==============================] - 151s - loss: 0.6658 - acc: 0.6111 - val_loss: 0.6698 - val_acc: 0.5992\n",
      "Epoch 8/30\n",
      "5600/5600 [==============================] - 134s - loss: 0.6441 - acc: 0.6368 - val_loss: 0.6332 - val_acc: 0.6388\n",
      "Epoch 9/30\n",
      "5600/5600 [==============================] - 120s - loss: 0.6396 - acc: 0.6421 - val_loss: 0.6370 - val_acc: 0.6537\n",
      "Epoch 10/30\n",
      "5600/5600 [==============================] - 117s - loss: 0.6251 - acc: 0.6566 - val_loss: 0.6158 - val_acc: 0.6717\n",
      "Epoch 11/30\n",
      "5600/5600 [==============================] - 126s - loss: 0.6079 - acc: 0.6789 - val_loss: 0.6022 - val_acc: 0.6783\n",
      "Epoch 12/30\n",
      "5600/5600 [==============================] - 142s - loss: 0.5941 - acc: 0.6855 - val_loss: 0.5905 - val_acc: 0.6804\n",
      "Epoch 13/30\n",
      "5600/5600 [==============================] - 146s - loss: 0.5721 - acc: 0.7016 - val_loss: 0.5920 - val_acc: 0.6783\n",
      "Epoch 14/30\n",
      "5600/5600 [==============================] - 119s - loss: 0.5564 - acc: 0.7136 - val_loss: 0.5594 - val_acc: 0.7125\n",
      "Epoch 15/30\n",
      "5600/5600 [==============================] - 123s - loss: 0.5171 - acc: 0.7457 - val_loss: 0.6154 - val_acc: 0.6842\n",
      "Epoch 16/30\n",
      "5600/5600 [==============================] - 123s - loss: 0.5180 - acc: 0.7439 - val_loss: 0.5573 - val_acc: 0.7133\n",
      "Epoch 17/30\n",
      "5600/5600 [==============================] - 122s - loss: 0.4876 - acc: 0.7612 - val_loss: 0.5719 - val_acc: 0.7058\n",
      "Epoch 18/30\n",
      "5600/5600 [==============================] - 124s - loss: 0.4761 - acc: 0.7696 - val_loss: 0.5435 - val_acc: 0.7229\n",
      "Epoch 19/30\n",
      "5600/5600 [==============================] - 122s - loss: 0.4372 - acc: 0.7973 - val_loss: 0.5563 - val_acc: 0.7362\n",
      "Epoch 20/30\n",
      "5600/5600 [==============================] - 123s - loss: 0.4203 - acc: 0.8027 - val_loss: 0.5130 - val_acc: 0.7446\n",
      "Epoch 21/30\n",
      "5600/5600 [==============================] - 122s - loss: 0.3997 - acc: 0.8173 - val_loss: 0.5109 - val_acc: 0.7608\n",
      "Epoch 22/30\n",
      "5600/5600 [==============================] - 123s - loss: 0.3727 - acc: 0.8334 - val_loss: 0.5457 - val_acc: 0.7533\n",
      "Epoch 23/30\n",
      "5600/5600 [==============================] - 122s - loss: 0.3281 - acc: 0.8589 - val_loss: 0.5822 - val_acc: 0.7254\n",
      "Epoch 24/30\n",
      "5600/5600 [==============================] - 123s - loss: 0.3099 - acc: 0.8707 - val_loss: 0.5765 - val_acc: 0.7337\n",
      "Epoch 25/30\n",
      "5600/5600 [==============================] - 124s - loss: 0.2216 - acc: 0.9095 - val_loss: 0.5991 - val_acc: 0.7550\n",
      "Epoch 26/30\n",
      "5600/5600 [==============================] - 125s - loss: 0.1849 - acc: 0.9289 - val_loss: 0.7344 - val_acc: 0.7412\n",
      "Epoch 27/30\n",
      "5600/5600 [==============================] - 125s - loss: 0.1497 - acc: 0.9496 - val_loss: 0.6954 - val_acc: 0.7533\n",
      "Epoch 28/30\n",
      "5600/5600 [==============================] - 127s - loss: 0.0687 - acc: 0.9789 - val_loss: 0.9506 - val_acc: 0.7371\n",
      "Epoch 29/30\n",
      "5600/5600 [==============================] - 126s - loss: 0.0328 - acc: 0.9914 - val_loss: 1.0358 - val_acc: 0.7508\n",
      "Epoch 30/30\n",
      "5600/5600 [==============================] - 124s - loss: 0.0183 - acc: 0.9963 - val_loss: 1.1125 - val_acc: 0.7667\n"
     ]
    },
    {
     "data": {
      "text/plain": [
       "<keras.callbacks.History at 0x7f7427a545d0>"
      ]
     },
     "execution_count": 18,
     "metadata": {},
     "output_type": "execute_result"
    }
   ],
   "source": [
    "print \"using ordering:\", K.image_dim_ordering()\n",
    "model.fit(X_train, Y_train, batch_size=batch_size, nb_epoch=nb_epoch,\n",
    "          verbose=1, validation_data=(X_test, Y_test))"
   ]
  },
  {
   "cell_type": "markdown",
   "metadata": {
    "collapsed": false
   },
   "source": [
    "score = model.evaluate(X_test, Y_test, verbose=0)\n",
    "\n",
    "print 'Test score:', score[0]\n",
    "print 'Test accuracy: {:.2%}'.format(score[1])\n"
   ]
  },
  {
   "cell_type": "code",
   "execution_count": null,
   "metadata": {
    "collapsed": true
   },
   "outputs": [],
   "source": []
  }
 ],
 "metadata": {
  "anaconda-cloud": {},
  "kernelspec": {
   "display_name": "Python [default]",
   "language": "python",
   "name": "python2"
  },
  "language_info": {
   "codemirror_mode": {
    "name": "ipython",
    "version": 2
   },
   "file_extension": ".py",
   "mimetype": "text/x-python",
   "name": "python",
   "nbconvert_exporter": "python",
   "pygments_lexer": "ipython2",
   "version": "2.7.12"
  }
 },
 "nbformat": 4,
 "nbformat_minor": 1
}
